{
 "cells": [
  {
   "cell_type": "code",
   "execution_count": 38,
   "metadata": {},
   "outputs": [],
   "source": [
    "import pydicom\n",
    "import pandas as pd\n",
    "import pyodbc\n",
    "import os\n",
    "from datetime import datetime\n",
    "from pathlib import Path\n",
    "import base64\n",
    "from Crypto import Random\n",
    "from Crypto.Cipher import AES\n",
    "import numpy as np"
   ]
  },
  {
   "cell_type": "code",
   "execution_count": 12,
   "metadata": {},
   "outputs": [],
   "source": [
    "def ImageID(x):\n",
    "    try:\n",
    "        return x.SOPInstanceUID\n",
    "    except:\n",
    "        return 'NA'"
   ]
  },
  {
   "cell_type": "code",
   "execution_count": 14,
   "metadata": {},
   "outputs": [],
   "source": [
    "def SeriesID(x):\n",
    "    try:\n",
    "        return x.SeriesInstanceUID\n",
    "    except:\n",
    "        return 'NA'"
   ]
  },
  {
   "cell_type": "code",
   "execution_count": 15,
   "metadata": {},
   "outputs": [],
   "source": [
    "def RadiologyOccurrenceID(x):\n",
    "    try:\n",
    "        return x.RadiologyOccurrenceID\n",
    "    except:\n",
    "        return 'NA'"
   ]
  },
  {
   "cell_type": "code",
   "execution_count": 16,
   "metadata": {},
   "outputs": [],
   "source": [
    "def PatientID(x):\n",
    "    try:\n",
    "        return x.PatientID\n",
    "    except:\n",
    "        return 'NA'"
   ]
  },
  {
   "cell_type": "code",
   "execution_count": 17,
   "metadata": {},
   "outputs": [],
   "source": [
    "def Rows(x):\n",
    "    try:\n",
    "        return x.Rows\n",
    "    except:\n",
    "        return 'NA'"
   ]
  },
  {
   "cell_type": "code",
   "execution_count": 18,
   "metadata": {},
   "outputs": [],
   "source": [
    "def Columns(x):\n",
    "    try:\n",
    "        return x.Columns\n",
    "    except:\n",
    "        return 'NA'"
   ]
  },
  {
   "cell_type": "code",
   "execution_count": 19,
   "metadata": {},
   "outputs": [],
   "source": [
    "def SliceThickness(x):\n",
    "    try:\n",
    "        return x.SliceThickness\n",
    "    except:\n",
    "        return 'NA'"
   ]
  },
  {
   "cell_type": "code",
   "execution_count": 20,
   "metadata": {},
   "outputs": [],
   "source": [
    "def ProtocolName(x):\n",
    "    try:\n",
    "        return x.ProtocolName\n",
    "    except:\n",
    "        return 'NA'"
   ]
  },
  {
   "cell_type": "code",
   "execution_count": 21,
   "metadata": {},
   "outputs": [],
   "source": [
    "def PerformedProcedureStepDescription(x):\n",
    "    try:\n",
    "        return x.PerformedProcedureStepDescription\n",
    "    except:\n",
    "        return 'NA'"
   ]
  },
  {
   "cell_type": "code",
   "execution_count": 22,
   "metadata": {},
   "outputs": [],
   "source": [
    "def BodyPartExamined(x):\n",
    "    try:\n",
    "        return x.BodyPartExamined\n",
    "    except:\n",
    "        return 'NA'"
   ]
  },
  {
   "cell_type": "code",
   "execution_count": 23,
   "metadata": {},
   "outputs": [],
   "source": [
    "def Modality(x):\n",
    "    try:\n",
    "        return x.Modality\n",
    "    except:\n",
    "        return 'NA'"
   ]
  },
  {
   "cell_type": "code",
   "execution_count": 24,
   "metadata": {},
   "outputs": [],
   "source": [
    "def SeriesDescription(x):\n",
    "    try:\n",
    "        return x.SeriesDescription\n",
    "    except:\n",
    "        return 'NA'"
   ]
  },
  {
   "cell_type": "code",
   "execution_count": 25,
   "metadata": {},
   "outputs": [],
   "source": [
    "def StudyDescription(x):\n",
    "    try:\n",
    "        return x.StudyDescription\n",
    "    except:\n",
    "        return 'NA'"
   ]
  },
  {
   "cell_type": "code",
   "execution_count": 26,
   "metadata": {},
   "outputs": [],
   "source": [
    "def Manufacturer(x):\n",
    "    try:\n",
    "        return x.Manufacturer\n",
    "    except:\n",
    "        return 'NA'"
   ]
  },
  {
   "cell_type": "code",
   "execution_count": 27,
   "metadata": {},
   "outputs": [],
   "source": [
    "def StudyDate(x):\n",
    "    try:\n",
    "        return x.StudyDate\n",
    "    except:\n",
    "        return 'NA'"
   ]
  },
  {
   "cell_type": "code",
   "execution_count": 28,
   "metadata": {},
   "outputs": [],
   "source": [
    "def StudyTime(x):\n",
    "    try:\n",
    "        return x.StudyTime\n",
    "    except:\n",
    "        return 'NA'"
   ]
  },
  {
   "cell_type": "code",
   "execution_count": null,
   "metadata": {},
   "outputs": [],
   "source": [
    "##encryption\n",
    "secret_key = b'1234567890123457'\n",
    "cipher = AES.new(secret_key,AES.MODE_ECB)\n",
    "    \n",
    "def DICOM(filepath):\n",
    "    os.chdir(filepath)\n",
    "    cnxn = pyodbc.connect('DRIVER={SQL Server};SERVER=128.1.99.58;DATABASE=ID_XYLITOL_WHITE;UID=hihipch;PWD=gks1dls!')\n",
    "    cursor = cnxn.cursor()\n",
    "    for i in os.listdir():\n",
    "        filepath_=os.getcwd()+'/'+i\n",
    "        for filename in list(Path(filepath_).glob('**/*.dcm')):\n",
    "            try:\n",
    "                Metadata = pydicom.filereader.dcmread(str(filename))\n",
    "                Metadata[0x10,0x10].value = 'Anonymized'\n",
    "                Metadata.PatientID = base64.b64encode(cipher.encrypt(bytes(Metadata.PatientID, 'utf-8').rjust(64))).decode('utf-8')  \n",
    "                Metadata.StudyInstanceUID = base64.b64encode(cipher.encrypt(bytes(Metadata.StudyInstanceUID, 'utf-8').rjust(64))).decode('utf-8')\n",
    "                Metadata.SeriesInstanceUID = base64.b64encode(cipher.encrypt(bytes(Metadata.SeriesInstanceUID, 'utf-8').rjust(64))).decode('utf-8')\n",
    "                Metadata.SOPInstanceUID = base64.b64encode(cipher.encrypt(bytes(Metadata.SOPInstanceUID, 'utf-8').rjust(64))).decode('utf-8')\n",
    "                Metadata.save_as(str(filename))\n",
    "                importantDICOMheader=pd.DataFrame({'Filepath' : [str(filename)], 'ImageID' : [ImageID(Metadata)], 'SeriesID' : [SeriesID(Metadata)], 'RadiologyOccurrenceID' : [RadiologyOccurrenceID(Metadata)], 'PatientID' : [PatientID(Metadata)],'ImageResolutionRows' : [Rows(Metadata)],'ImageResolutionColumns' : [Columns(Metadata)],'SliceThickness' : [SliceThickness(Metadata)],'ProtocolName' : [ProtocolName(Metadata)], 'PerformedProcedureStepDescription' : [PerformedProcedureStepDescription(Metadata)], 'BodyPartExamined' : [BodyPartExamined(Metadata)],'Modality' : [Modality(Metadata)],'SeriesDescription' : [SeriesDescription(Metadata)],'StudyDescription' : [StudyDescription(Metadata)],'Manufacturer' : [Manufacturer(Metadata)],'StudyDate' : [StudyDate(Metadata)],'StudyTime' : [StudyTime(Metadata)]})\n",
    "                for index,row in importantDICOMheader.iterrows():\n",
    "                    cursor.execute(\"insert into importantDICOMheader(Filepath, ImageID, SeriesID, RadiologyOccurrenceID, PatientID,ImageResolutionRows,ImageResolutionColumns,SliceThickness,ProtocolName, PerformedProcedureStepDescription, BodyPartExamined,Modality,SeriesDescription,StudyDescription,Manufacturer,StudyDate,StudyTime) values (?, ?, ?, ?, ?, ?, ?, ?, ?, ?, ?, ?, ?, ?, ?, ?, ?)\", row['Filepath'], row['ImageID'], row['SeriesID'], row['RadiologyOccurrenceID'], row['PatientID'], row['ImageResolutionRows'], row['ImageResolutionColumns'], row['SliceThickness'], row['ProtocolName'], row['PerformedProcedureStepDescription'], row['BodyPartExamined'], row['Modality'], row['SeriesDescription'], row['StudyDescription'], row['Manufacturer'], row['StudyDate'], row['StudyTime'])\n",
    "                cnxn.commit()\n",
    "            except:\n",
    "                print(filename)"
   ]
  }
 ],
 "metadata": {
  "kernelspec": {
   "display_name": "Python 3",
   "language": "python",
   "name": "python3"
  },
  "language_info": {
   "codemirror_mode": {
    "name": "ipython",
    "version": 3
   },
   "file_extension": ".py",
   "mimetype": "text/x-python",
   "name": "python",
   "nbconvert_exporter": "python",
   "pygments_lexer": "ipython3",
   "version": "3.7.4"
  }
 },
 "nbformat": 4,
 "nbformat_minor": 2
}
