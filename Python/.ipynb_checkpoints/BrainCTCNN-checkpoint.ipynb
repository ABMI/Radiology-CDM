{
 "cells": [
  {
   "cell_type": "code",
   "execution_count": 25,
   "metadata": {},
   "outputs": [],
   "source": [
    "import os\n",
    "import pydicom\n",
    "import pandas as pd"
   ]
  },
  {
   "cell_type": "code",
   "execution_count": 17,
   "metadata": {},
   "outputs": [],
   "source": [
    "DICOMpath='D:/brain_CT'\n",
    "other=['Batch 1', 'Batch 2','Batch 3','Batch 4','Topogram  1.0  T20s','<MPR Range>','<MIP Thin Range>','<MIP Thin Range[1]>','<MIP Thin Range[2]>','<MIP Thin Range[3]>', '<VRT Collection>', 'Orbit  3.0  H30s', '<MIP Thick Range>']\n",
    "otherlist = []\n",
    "for (path, dir, files) in os.walk(DICOMpath):\n",
    "    for filename in files:\n",
    "        ext = os.path.splitext(filename)[-1]\n",
    "        if ext == '.dcm':\n",
    "            filePath = \"{0}/{1}\".format(path, filename)\n",
    "            metadata=pydicom.filereader.dcmread(filePath)\n",
    "            if metadata.Modality=='CT' and metadata.BodyPartExamined.lower()=='head' and metadata.SeriesDescription in other:\n",
    "                otherlist.append(filePath)"
   ]
  },
  {
   "cell_type": "code",
   "execution_count": 20,
   "metadata": {},
   "outputs": [],
   "source": [
    "DICOMpath='D:/class/brainCTpost'\n",
    "postlist = []\n",
    "for (path, dir, files) in os.walk(DICOMpath):\n",
    "    for filename in files:\n",
    "        ext = os.path.splitext(filename)[-1]\n",
    "        if ext == '.dcm':\n",
    "            filePath = \"{0}/{1}\".format(path, filename)\n",
    "            postlist.append(filePath)"
   ]
  },
  {
   "cell_type": "code",
   "execution_count": 21,
   "metadata": {},
   "outputs": [],
   "source": [
    "DICOMpath='D:/class/brainCTnon'\n",
    "nonlist = []\n",
    "for (path, dir, files) in os.walk(DICOMpath):\n",
    "    for filename in files:\n",
    "        ext = os.path.splitext(filename)[-1]\n",
    "        if ext == '.dcm':\n",
    "            filePath = \"{0}/{1}\".format(path, filename)\n",
    "            nonlist.append(filePath)"
   ]
  },
  {
   "cell_type": "code",
   "execution_count": 29,
   "metadata": {},
   "outputs": [],
   "source": [
    "nondf=pd.DataFrame({'filepath' : nonlist, 'type' : 0})\n",
    "postdf=pd.DataFrame({'filepath' : postlist, 'type' : 1})\n",
    "otherdf=pd.DataFrame({'filepath' : otherlist, 'type' : 2})\n",
    "df=nondf.append(postdf)\n",
    "df=df.append(otherdf)"
   ]
  },
  {
   "cell_type": "code",
   "execution_count": 30,
   "metadata": {},
   "outputs": [],
   "source": []
  },
  {
   "cell_type": "code",
   "execution_count": 31,
   "metadata": {},
   "outputs": [
    {
     "data": {
      "text/html": [
       "<div>\n",
       "<style scoped>\n",
       "    .dataframe tbody tr th:only-of-type {\n",
       "        vertical-align: middle;\n",
       "    }\n",
       "\n",
       "    .dataframe tbody tr th {\n",
       "        vertical-align: top;\n",
       "    }\n",
       "\n",
       "    .dataframe thead th {\n",
       "        text-align: right;\n",
       "    }\n",
       "</style>\n",
       "<table border=\"1\" class=\"dataframe\">\n",
       "  <thead>\n",
       "    <tr style=\"text-align: right;\">\n",
       "      <th></th>\n",
       "      <th>filepath</th>\n",
       "      <th>type</th>\n",
       "    </tr>\n",
       "  </thead>\n",
       "  <tbody>\n",
       "    <tr>\n",
       "      <td>0</td>\n",
       "      <td>D:/class/brainCTnon/I00238396545.dcm</td>\n",
       "      <td>0</td>\n",
       "    </tr>\n",
       "    <tr>\n",
       "      <td>1</td>\n",
       "      <td>D:/class/brainCTnon/I00238396546.dcm</td>\n",
       "      <td>0</td>\n",
       "    </tr>\n",
       "    <tr>\n",
       "      <td>2</td>\n",
       "      <td>D:/class/brainCTnon/I00238396547.dcm</td>\n",
       "      <td>0</td>\n",
       "    </tr>\n",
       "    <tr>\n",
       "      <td>3</td>\n",
       "      <td>D:/class/brainCTnon/I00238396548.dcm</td>\n",
       "      <td>0</td>\n",
       "    </tr>\n",
       "    <tr>\n",
       "      <td>4</td>\n",
       "      <td>D:/class/brainCTnon/I00238396549.dcm</td>\n",
       "      <td>0</td>\n",
       "    </tr>\n",
       "    <tr>\n",
       "      <td>...</td>\n",
       "      <td>...</td>\n",
       "      <td>...</td>\n",
       "    </tr>\n",
       "    <tr>\n",
       "      <td>10361</td>\n",
       "      <td>D:/brain_CT/I00241612411.dcm</td>\n",
       "      <td>2</td>\n",
       "    </tr>\n",
       "    <tr>\n",
       "      <td>10362</td>\n",
       "      <td>D:/brain_CT/I00241612414.dcm</td>\n",
       "      <td>2</td>\n",
       "    </tr>\n",
       "    <tr>\n",
       "      <td>10363</td>\n",
       "      <td>D:/brain_CT/I00241612417.dcm</td>\n",
       "      <td>2</td>\n",
       "    </tr>\n",
       "    <tr>\n",
       "      <td>10364</td>\n",
       "      <td>D:/brain_CT/I00241612418.dcm</td>\n",
       "      <td>2</td>\n",
       "    </tr>\n",
       "    <tr>\n",
       "      <td>10365</td>\n",
       "      <td>D:/brain_CT/I00241612419.dcm</td>\n",
       "      <td>2</td>\n",
       "    </tr>\n",
       "  </tbody>\n",
       "</table>\n",
       "<p>13933 rows × 2 columns</p>\n",
       "</div>"
      ],
      "text/plain": [
       "                                   filepath  type\n",
       "0      D:/class/brainCTnon/I00238396545.dcm     0\n",
       "1      D:/class/brainCTnon/I00238396546.dcm     0\n",
       "2      D:/class/brainCTnon/I00238396547.dcm     0\n",
       "3      D:/class/brainCTnon/I00238396548.dcm     0\n",
       "4      D:/class/brainCTnon/I00238396549.dcm     0\n",
       "...                                     ...   ...\n",
       "10361          D:/brain_CT/I00241612411.dcm     2\n",
       "10362          D:/brain_CT/I00241612414.dcm     2\n",
       "10363          D:/brain_CT/I00241612417.dcm     2\n",
       "10364          D:/brain_CT/I00241612418.dcm     2\n",
       "10365          D:/brain_CT/I00241612419.dcm     2\n",
       "\n",
       "[13933 rows x 2 columns]"
      ]
     },
     "execution_count": 31,
     "metadata": {},
     "output_type": "execute_result"
    }
   ],
   "source": []
  }
 ],
 "metadata": {
  "kernelspec": {
   "display_name": "Python 3",
   "language": "python",
   "name": "python3"
  },
  "language_info": {
   "codemirror_mode": {
    "name": "ipython",
    "version": 3
   },
   "file_extension": ".py",
   "mimetype": "text/x-python",
   "name": "python",
   "nbconvert_exporter": "python",
   "pygments_lexer": "ipython3",
   "version": "3.7.4"
  }
 },
 "nbformat": 4,
 "nbformat_minor": 2
}
