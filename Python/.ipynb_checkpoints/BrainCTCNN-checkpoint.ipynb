{
 "cells": [
  {
   "cell_type": "code",
   "execution_count": 1,
   "metadata": {},
   "outputs": [
    {
     "name": "stderr",
     "output_type": "stream",
     "text": [
      "Using TensorFlow backend.\n"
     ]
    }
   ],
   "source": [
    "import os\n",
    "import pydicom\n",
    "import pandas as pd\n",
    "import numpy as np\n",
    "import keras\n",
    "import cv2"
   ]
  },
  {
   "cell_type": "code",
   "execution_count": 17,
   "metadata": {},
   "outputs": [],
   "source": [
    "DICOMpath='D:/brain_CT'\n",
    "other=['Batch 1', 'Batch 2','Batch 3','Batch 4','Topogram  1.0  T20s','<MPR Range>','<MIP Thin Range>','<MIP Thin Range[1]>','<MIP Thin Range[2]>','<MIP Thin Range[3]>', '<VRT Collection>', 'Orbit  3.0  H30s', '<MIP Thick Range>']\n",
    "otherlist = []\n",
    "for (path, dir, files) in os.walk(DICOMpath):\n",
    "    for filename in files:\n",
    "        ext = os.path.splitext(filename)[-1]\n",
    "        if ext == '.dcm':\n",
    "            filePath = \"{0}/{1}\".format(path, filename)\n",
    "            metadata=pydicom.filereader.dcmread(filePath)\n",
    "            if metadata.Modality=='CT' and metadata.BodyPartExamined.lower()=='head' and metadata.SeriesDescription in other:\n",
    "                otherlist.append(filePath)"
   ]
  },
  {
   "cell_type": "code",
   "execution_count": 20,
   "metadata": {},
   "outputs": [],
   "source": [
    "DICOMpath='D:/class/brainCTpost'\n",
    "postlist = []\n",
    "for (path, dir, files) in os.walk(DICOMpath):\n",
    "    for filename in files:\n",
    "        ext = os.path.splitext(filename)[-1]\n",
    "        if ext == '.dcm':\n",
    "            filePath = \"{0}/{1}\".format(path, filename)\n",
    "            postlist.append(filePath)"
   ]
  },
  {
   "cell_type": "code",
   "execution_count": 21,
   "metadata": {},
   "outputs": [],
   "source": [
    "DICOMpath='D:/class/brainCTnon'\n",
    "nonlist = []\n",
    "for (path, dir, files) in os.walk(DICOMpath):\n",
    "    for filename in files:\n",
    "        ext = os.path.splitext(filename)[-1]\n",
    "        if ext == '.dcm':\n",
    "            filePath = \"{0}/{1}\".format(path, filename)\n",
    "            nonlist.append(filePath)"
   ]
  },
  {
   "cell_type": "code",
   "execution_count": 32,
   "metadata": {},
   "outputs": [],
   "source": [
    "nondf=pd.DataFrame({'filename' : nonlist, 'label' : 0})\n",
    "postdf=pd.DataFrame({'filename' : postlist, 'label' : 1})\n",
    "otherdf=pd.DataFrame({'filename' : otherlist, 'label' : 2})\n",
    "df=nondf.append(postdf)\n",
    "df=df.append(otherdf)\n",
    "df=df.sample(frac=1)"
   ]
  },
  {
   "cell_type": "code",
   "execution_count": 37,
   "metadata": {},
   "outputs": [],
   "source": [
    "y_train = np.array(df['label'].tolist())\n",
    "y_train = keras.utils.np_utils.to_categorical(y_train)"
   ]
  },
  {
   "cell_type": "code",
   "execution_count": null,
   "metadata": {},
   "outputs": [],
   "source": [
    "x_train=[]\n",
    "for i in df['filename'].values:\n",
    "    a=pydicom.filereader.dcmread(str(i)).pixel_array\n",
    "    if len(a)==2:\n",
    "        a=cv2.resize(a, (128, 128))\n",
    "    if len(a)==3:\n",
    "        a=cv2.resize(a, (128, 128, 3))\n",
    "    x_train.append(a)\n",
    "x_train=np.array(x_train)  "
   ]
  }
 ],
 "metadata": {
  "kernelspec": {
   "display_name": "Python 3",
   "language": "python",
   "name": "python3"
  },
  "language_info": {
   "codemirror_mode": {
    "name": "ipython",
    "version": 3
   },
   "file_extension": ".py",
   "mimetype": "text/x-python",
   "name": "python",
   "nbconvert_exporter": "python",
   "pygments_lexer": "ipython3",
   "version": "3.7.4"
  }
 },
 "nbformat": 4,
 "nbformat_minor": 2
}
